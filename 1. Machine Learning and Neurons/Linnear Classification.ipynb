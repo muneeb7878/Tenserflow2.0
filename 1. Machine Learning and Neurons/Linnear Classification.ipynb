{
 "cells": [
  {
   "cell_type": "code",
   "execution_count": 1,
   "id": "8d029460",
   "metadata": {},
   "outputs": [],
   "source": [
    "from sklearn.datasets import load_breast_cancer"
   ]
  },
  {
   "cell_type": "code",
   "execution_count": 2,
   "id": "658262ce",
   "metadata": {},
   "outputs": [
    {
     "data": {
      "text/plain": [
       "sklearn.utils._bunch.Bunch"
      ]
     },
     "execution_count": 2,
     "metadata": {},
     "output_type": "execute_result"
    }
   ],
   "source": [
    "data = load_breast_cancer()\n",
    "type(data)"
   ]
  },
  {
   "cell_type": "code",
   "execution_count": 3,
   "id": "c8c6945c",
   "metadata": {},
   "outputs": [
    {
     "data": {
      "text/plain": [
       "dict_keys(['data', 'target', 'frame', 'target_names', 'DESCR', 'feature_names', 'filename', 'data_module'])"
      ]
     },
     "execution_count": 3,
     "metadata": {},
     "output_type": "execute_result"
    }
   ],
   "source": [
    "data.keys()"
   ]
  },
  {
   "cell_type": "code",
   "execution_count": 4,
   "id": "cc4dedb3",
   "metadata": {},
   "outputs": [
    {
     "data": {
      "text/plain": [
       "(569, 30)"
      ]
     },
     "execution_count": 4,
     "metadata": {},
     "output_type": "execute_result"
    }
   ],
   "source": [
    "data.data.shape"
   ]
  },
  {
   "cell_type": "code",
   "execution_count": 5,
   "id": "d09a71d7",
   "metadata": {},
   "outputs": [
    {
     "data": {
      "text/plain": [
       "(569,)"
      ]
     },
     "execution_count": 5,
     "metadata": {},
     "output_type": "execute_result"
    }
   ],
   "source": [
    "data.target.shape"
   ]
  },
  {
   "cell_type": "code",
   "execution_count": 6,
   "id": "d4053516",
   "metadata": {},
   "outputs": [
    {
     "data": {
      "text/plain": [
       "array(['malignant', 'benign'], dtype='<U9')"
      ]
     },
     "execution_count": 6,
     "metadata": {},
     "output_type": "execute_result"
    }
   ],
   "source": [
    "data.target_names"
   ]
  },
  {
   "cell_type": "code",
   "execution_count": 7,
   "id": "052aa9e0",
   "metadata": {},
   "outputs": [
    {
     "data": {
      "text/plain": [
       "array(['mean radius', 'mean texture', 'mean perimeter', 'mean area',\n",
       "       'mean smoothness', 'mean compactness', 'mean concavity',\n",
       "       'mean concave points', 'mean symmetry', 'mean fractal dimension',\n",
       "       'radius error', 'texture error', 'perimeter error', 'area error',\n",
       "       'smoothness error', 'compactness error', 'concavity error',\n",
       "       'concave points error', 'symmetry error',\n",
       "       'fractal dimension error', 'worst radius', 'worst texture',\n",
       "       'worst perimeter', 'worst area', 'worst smoothness',\n",
       "       'worst compactness', 'worst concavity', 'worst concave points',\n",
       "       'worst symmetry', 'worst fractal dimension'], dtype='<U23')"
      ]
     },
     "execution_count": 7,
     "metadata": {},
     "output_type": "execute_result"
    }
   ],
   "source": [
    "data.feature_names"
   ]
  },
  {
   "cell_type": "code",
   "execution_count": 8,
   "id": "77552733",
   "metadata": {},
   "outputs": [],
   "source": [
    "# Lets split the data\n",
    "from sklearn.model_selection import train_test_split\n",
    "\n",
    "x_train , x_test , y_train , y_test = train_test_split(data.data , data.target , test_size=0.33 , random_state=42)"
   ]
  },
  {
   "cell_type": "code",
   "execution_count": 9,
   "id": "209409cd",
   "metadata": {},
   "outputs": [
    {
     "data": {
      "text/plain": [
       "((381, 30), (188, 30), (188,), (381,))"
      ]
     },
     "execution_count": 9,
     "metadata": {},
     "output_type": "execute_result"
    }
   ],
   "source": [
    "x_train.shape , x_test.shape , y_test.shape ,y_train.shape"
   ]
  },
  {
   "cell_type": "code",
   "execution_count": 10,
   "id": "228d34ab",
   "metadata": {},
   "outputs": [],
   "source": [
    "#Lets do some scaling\n",
    "from sklearn.preprocessing import StandardScaler\n",
    "scaler = StandardScaler()\n",
    "x_train = scaler.fit_transform(x_train)\n",
    "x_test = scaler.fit_transform(x_test)"
   ]
  },
  {
   "cell_type": "code",
   "execution_count": 11,
   "id": "3ed2f46b",
   "metadata": {},
   "outputs": [],
   "source": [
    "# Build model\n",
    "import tensorflow as tf\n",
    "model = tf.keras.Sequential()\n",
    "model.add(tf.keras.layers.Dense(1, input_shape=(30,)  ,activation=\"sigmoid\"))"
   ]
  },
  {
   "cell_type": "code",
   "execution_count": 12,
   "id": "3de513ad",
   "metadata": {},
   "outputs": [],
   "source": [
    "model.compile(optimizer=\"adam\",\n",
    "             loss=\"binary_crossentropy\",\n",
    "             metrics=[\"accuracy\"])"
   ]
  },
  {
   "cell_type": "code",
   "execution_count": 13,
   "id": "9c79ec5b",
   "metadata": {},
   "outputs": [
    {
     "name": "stdout",
     "output_type": "stream",
     "text": [
      "Epoch 1/100\n",
      "12/12 [==============================] - 1s 17ms/step - loss: 0.7446 - accuracy: 0.5171 - val_loss: 0.6934 - val_accuracy: 0.5745\n",
      "Epoch 2/100\n",
      "12/12 [==============================] - 0s 5ms/step - loss: 0.6693 - accuracy: 0.6010 - val_loss: 0.6223 - val_accuracy: 0.6543\n",
      "Epoch 3/100\n",
      "12/12 [==============================] - 0s 5ms/step - loss: 0.6047 - accuracy: 0.6719 - val_loss: 0.5610 - val_accuracy: 0.7234\n",
      "Epoch 4/100\n",
      "12/12 [==============================] - 0s 5ms/step - loss: 0.5487 - accuracy: 0.7192 - val_loss: 0.5094 - val_accuracy: 0.7606\n",
      "Epoch 5/100\n",
      "12/12 [==============================] - 0s 4ms/step - loss: 0.5016 - accuracy: 0.7690 - val_loss: 0.4660 - val_accuracy: 0.8032\n",
      "Epoch 6/100\n",
      "12/12 [==============================] - 0s 4ms/step - loss: 0.4626 - accuracy: 0.8005 - val_loss: 0.4283 - val_accuracy: 0.8511\n",
      "Epoch 7/100\n",
      "12/12 [==============================] - 0s 4ms/step - loss: 0.4282 - accuracy: 0.8373 - val_loss: 0.3967 - val_accuracy: 0.8670\n",
      "Epoch 8/100\n",
      "12/12 [==============================] - 0s 4ms/step - loss: 0.3988 - accuracy: 0.8583 - val_loss: 0.3699 - val_accuracy: 0.8777\n",
      "Epoch 9/100\n",
      "12/12 [==============================] - 0s 4ms/step - loss: 0.3742 - accuracy: 0.8845 - val_loss: 0.3464 - val_accuracy: 0.8989\n",
      "Epoch 10/100\n",
      "12/12 [==============================] - 0s 4ms/step - loss: 0.3526 - accuracy: 0.8950 - val_loss: 0.3257 - val_accuracy: 0.8989\n",
      "Epoch 11/100\n",
      "12/12 [==============================] - 0s 5ms/step - loss: 0.3336 - accuracy: 0.9081 - val_loss: 0.3074 - val_accuracy: 0.9149\n",
      "Epoch 12/100\n",
      "12/12 [==============================] - 0s 4ms/step - loss: 0.3168 - accuracy: 0.9108 - val_loss: 0.2913 - val_accuracy: 0.9255\n",
      "Epoch 13/100\n",
      "12/12 [==============================] - 0s 4ms/step - loss: 0.3017 - accuracy: 0.9213 - val_loss: 0.2773 - val_accuracy: 0.9202\n",
      "Epoch 14/100\n",
      "12/12 [==============================] - 0s 4ms/step - loss: 0.2888 - accuracy: 0.9239 - val_loss: 0.2641 - val_accuracy: 0.9255\n",
      "Epoch 15/100\n",
      "12/12 [==============================] - 0s 5ms/step - loss: 0.2766 - accuracy: 0.9265 - val_loss: 0.2528 - val_accuracy: 0.9415\n",
      "Epoch 16/100\n",
      "12/12 [==============================] - 0s 5ms/step - loss: 0.2658 - accuracy: 0.9265 - val_loss: 0.2424 - val_accuracy: 0.9574\n",
      "Epoch 17/100\n",
      "12/12 [==============================] - 0s 4ms/step - loss: 0.2562 - accuracy: 0.9318 - val_loss: 0.2328 - val_accuracy: 0.9574\n",
      "Epoch 18/100\n",
      "12/12 [==============================] - 0s 4ms/step - loss: 0.2472 - accuracy: 0.9318 - val_loss: 0.2242 - val_accuracy: 0.9574\n",
      "Epoch 19/100\n",
      "12/12 [==============================] - 0s 4ms/step - loss: 0.2390 - accuracy: 0.9318 - val_loss: 0.2163 - val_accuracy: 0.9574\n",
      "Epoch 20/100\n",
      "12/12 [==============================] - 0s 4ms/step - loss: 0.2317 - accuracy: 0.9370 - val_loss: 0.2089 - val_accuracy: 0.9574\n",
      "Epoch 21/100\n",
      "12/12 [==============================] - 0s 5ms/step - loss: 0.2246 - accuracy: 0.9423 - val_loss: 0.2022 - val_accuracy: 0.9574\n",
      "Epoch 22/100\n",
      "12/12 [==============================] - 0s 5ms/step - loss: 0.2184 - accuracy: 0.9423 - val_loss: 0.1959 - val_accuracy: 0.9628\n",
      "Epoch 23/100\n",
      "12/12 [==============================] - 0s 5ms/step - loss: 0.2125 - accuracy: 0.9475 - val_loss: 0.1900 - val_accuracy: 0.9628\n",
      "Epoch 24/100\n",
      "12/12 [==============================] - 0s 5ms/step - loss: 0.2069 - accuracy: 0.9554 - val_loss: 0.1847 - val_accuracy: 0.9628\n",
      "Epoch 25/100\n",
      "12/12 [==============================] - 0s 4ms/step - loss: 0.2018 - accuracy: 0.9580 - val_loss: 0.1797 - val_accuracy: 0.9628\n",
      "Epoch 26/100\n",
      "12/12 [==============================] - 0s 4ms/step - loss: 0.1970 - accuracy: 0.9580 - val_loss: 0.1751 - val_accuracy: 0.9681\n",
      "Epoch 27/100\n",
      "12/12 [==============================] - 0s 4ms/step - loss: 0.1927 - accuracy: 0.9580 - val_loss: 0.1706 - val_accuracy: 0.9681\n",
      "Epoch 28/100\n",
      "12/12 [==============================] - 0s 4ms/step - loss: 0.1883 - accuracy: 0.9633 - val_loss: 0.1665 - val_accuracy: 0.9681\n",
      "Epoch 29/100\n",
      "12/12 [==============================] - 0s 4ms/step - loss: 0.1845 - accuracy: 0.9633 - val_loss: 0.1626 - val_accuracy: 0.9681\n",
      "Epoch 30/100\n",
      "12/12 [==============================] - 0s 4ms/step - loss: 0.1808 - accuracy: 0.9633 - val_loss: 0.1590 - val_accuracy: 0.9734\n",
      "Epoch 31/100\n",
      "12/12 [==============================] - 0s 4ms/step - loss: 0.1772 - accuracy: 0.9633 - val_loss: 0.1555 - val_accuracy: 0.9734\n",
      "Epoch 32/100\n",
      "12/12 [==============================] - 0s 4ms/step - loss: 0.1739 - accuracy: 0.9633 - val_loss: 0.1524 - val_accuracy: 0.9734\n",
      "Epoch 33/100\n",
      "12/12 [==============================] - 0s 5ms/step - loss: 0.1709 - accuracy: 0.9633 - val_loss: 0.1492 - val_accuracy: 0.9734\n",
      "Epoch 34/100\n",
      "12/12 [==============================] - 0s 5ms/step - loss: 0.1678 - accuracy: 0.9633 - val_loss: 0.1463 - val_accuracy: 0.9734\n",
      "Epoch 35/100\n",
      "12/12 [==============================] - 0s 5ms/step - loss: 0.1650 - accuracy: 0.9659 - val_loss: 0.1435 - val_accuracy: 0.9681\n",
      "Epoch 36/100\n",
      "12/12 [==============================] - 0s 5ms/step - loss: 0.1623 - accuracy: 0.9685 - val_loss: 0.1409 - val_accuracy: 0.9734\n",
      "Epoch 37/100\n",
      "12/12 [==============================] - 0s 4ms/step - loss: 0.1598 - accuracy: 0.9685 - val_loss: 0.1385 - val_accuracy: 0.9734\n",
      "Epoch 38/100\n",
      "12/12 [==============================] - 0s 4ms/step - loss: 0.1573 - accuracy: 0.9711 - val_loss: 0.1361 - val_accuracy: 0.9734\n",
      "Epoch 39/100\n",
      "12/12 [==============================] - 0s 4ms/step - loss: 0.1551 - accuracy: 0.9711 - val_loss: 0.1338 - val_accuracy: 0.9787\n",
      "Epoch 40/100\n",
      "12/12 [==============================] - 0s 4ms/step - loss: 0.1529 - accuracy: 0.9711 - val_loss: 0.1316 - val_accuracy: 0.9787\n",
      "Epoch 41/100\n",
      "12/12 [==============================] - 0s 4ms/step - loss: 0.1508 - accuracy: 0.9711 - val_loss: 0.1295 - val_accuracy: 0.9787\n",
      "Epoch 42/100\n",
      "12/12 [==============================] - 0s 4ms/step - loss: 0.1487 - accuracy: 0.9711 - val_loss: 0.1275 - val_accuracy: 0.9787\n",
      "Epoch 43/100\n",
      "12/12 [==============================] - 0s 4ms/step - loss: 0.1467 - accuracy: 0.9711 - val_loss: 0.1256 - val_accuracy: 0.9787\n",
      "Epoch 44/100\n",
      "12/12 [==============================] - 0s 4ms/step - loss: 0.1449 - accuracy: 0.9711 - val_loss: 0.1238 - val_accuracy: 0.9787\n",
      "Epoch 45/100\n",
      "12/12 [==============================] - 0s 4ms/step - loss: 0.1431 - accuracy: 0.9711 - val_loss: 0.1220 - val_accuracy: 0.9787\n",
      "Epoch 46/100\n",
      "12/12 [==============================] - 0s 4ms/step - loss: 0.1414 - accuracy: 0.9711 - val_loss: 0.1204 - val_accuracy: 0.9787\n",
      "Epoch 47/100\n",
      "12/12 [==============================] - 0s 5ms/step - loss: 0.1398 - accuracy: 0.9711 - val_loss: 0.1187 - val_accuracy: 0.9787\n",
      "Epoch 48/100\n",
      "12/12 [==============================] - 0s 4ms/step - loss: 0.1382 - accuracy: 0.9738 - val_loss: 0.1172 - val_accuracy: 0.9787\n",
      "Epoch 49/100\n",
      "12/12 [==============================] - 0s 4ms/step - loss: 0.1367 - accuracy: 0.9738 - val_loss: 0.1157 - val_accuracy: 0.9787\n",
      "Epoch 50/100\n",
      "12/12 [==============================] - 0s 4ms/step - loss: 0.1352 - accuracy: 0.9738 - val_loss: 0.1142 - val_accuracy: 0.9787\n",
      "Epoch 51/100\n",
      "12/12 [==============================] - 0s 4ms/step - loss: 0.1337 - accuracy: 0.9738 - val_loss: 0.1128 - val_accuracy: 0.9787\n",
      "Epoch 52/100\n",
      "12/12 [==============================] - 0s 4ms/step - loss: 0.1324 - accuracy: 0.9790 - val_loss: 0.1115 - val_accuracy: 0.9787\n",
      "Epoch 53/100\n",
      "12/12 [==============================] - 0s 4ms/step - loss: 0.1311 - accuracy: 0.9790 - val_loss: 0.1102 - val_accuracy: 0.9787\n",
      "Epoch 54/100\n",
      "12/12 [==============================] - 0s 4ms/step - loss: 0.1298 - accuracy: 0.9790 - val_loss: 0.1089 - val_accuracy: 0.9787\n",
      "Epoch 55/100\n",
      "12/12 [==============================] - 0s 4ms/step - loss: 0.1285 - accuracy: 0.9790 - val_loss: 0.1077 - val_accuracy: 0.9787\n",
      "Epoch 56/100\n",
      "12/12 [==============================] - 0s 4ms/step - loss: 0.1273 - accuracy: 0.9790 - val_loss: 0.1065 - val_accuracy: 0.9787\n",
      "Epoch 57/100\n",
      "12/12 [==============================] - 0s 4ms/step - loss: 0.1261 - accuracy: 0.9790 - val_loss: 0.1053 - val_accuracy: 0.9787\n",
      "Epoch 58/100\n",
      "12/12 [==============================] - 0s 4ms/step - loss: 0.1251 - accuracy: 0.9790 - val_loss: 0.1042 - val_accuracy: 0.9787\n"
     ]
    },
    {
     "name": "stdout",
     "output_type": "stream",
     "text": [
      "Epoch 59/100\n",
      "12/12 [==============================] - 0s 4ms/step - loss: 0.1240 - accuracy: 0.9790 - val_loss: 0.1031 - val_accuracy: 0.9787\n",
      "Epoch 60/100\n",
      "12/12 [==============================] - 0s 3ms/step - loss: 0.1229 - accuracy: 0.9790 - val_loss: 0.1021 - val_accuracy: 0.9787\n",
      "Epoch 61/100\n",
      "12/12 [==============================] - 0s 4ms/step - loss: 0.1219 - accuracy: 0.9790 - val_loss: 0.1011 - val_accuracy: 0.9787\n",
      "Epoch 62/100\n",
      "12/12 [==============================] - 0s 3ms/step - loss: 0.1209 - accuracy: 0.9790 - val_loss: 0.1001 - val_accuracy: 0.9787\n",
      "Epoch 63/100\n",
      "12/12 [==============================] - 0s 4ms/step - loss: 0.1199 - accuracy: 0.9790 - val_loss: 0.0992 - val_accuracy: 0.9787\n",
      "Epoch 64/100\n",
      "12/12 [==============================] - 0s 5ms/step - loss: 0.1190 - accuracy: 0.9790 - val_loss: 0.0983 - val_accuracy: 0.9787\n",
      "Epoch 65/100\n",
      "12/12 [==============================] - 0s 5ms/step - loss: 0.1181 - accuracy: 0.9790 - val_loss: 0.0974 - val_accuracy: 0.9787\n",
      "Epoch 66/100\n",
      "12/12 [==============================] - 0s 5ms/step - loss: 0.1172 - accuracy: 0.9790 - val_loss: 0.0965 - val_accuracy: 0.9787\n",
      "Epoch 67/100\n",
      "12/12 [==============================] - 0s 4ms/step - loss: 0.1163 - accuracy: 0.9790 - val_loss: 0.0956 - val_accuracy: 0.9787\n",
      "Epoch 68/100\n",
      "12/12 [==============================] - 0s 4ms/step - loss: 0.1155 - accuracy: 0.9790 - val_loss: 0.0948 - val_accuracy: 0.9787\n",
      "Epoch 69/100\n",
      "12/12 [==============================] - 0s 4ms/step - loss: 0.1147 - accuracy: 0.9790 - val_loss: 0.0940 - val_accuracy: 0.9787\n",
      "Epoch 70/100\n",
      "12/12 [==============================] - 0s 5ms/step - loss: 0.1138 - accuracy: 0.9790 - val_loss: 0.0932 - val_accuracy: 0.9787\n",
      "Epoch 71/100\n",
      "12/12 [==============================] - 0s 5ms/step - loss: 0.1131 - accuracy: 0.9790 - val_loss: 0.0925 - val_accuracy: 0.9787\n",
      "Epoch 72/100\n",
      "12/12 [==============================] - 0s 4ms/step - loss: 0.1123 - accuracy: 0.9790 - val_loss: 0.0917 - val_accuracy: 0.9787\n",
      "Epoch 73/100\n",
      "12/12 [==============================] - 0s 5ms/step - loss: 0.1116 - accuracy: 0.9790 - val_loss: 0.0910 - val_accuracy: 0.9787\n",
      "Epoch 74/100\n",
      "12/12 [==============================] - 0s 5ms/step - loss: 0.1109 - accuracy: 0.9790 - val_loss: 0.0903 - val_accuracy: 0.9787\n",
      "Epoch 75/100\n",
      "12/12 [==============================] - 0s 4ms/step - loss: 0.1102 - accuracy: 0.9790 - val_loss: 0.0896 - val_accuracy: 0.9787\n",
      "Epoch 76/100\n",
      "12/12 [==============================] - 0s 4ms/step - loss: 0.1095 - accuracy: 0.9790 - val_loss: 0.0889 - val_accuracy: 0.9787\n",
      "Epoch 77/100\n",
      "12/12 [==============================] - 0s 5ms/step - loss: 0.1088 - accuracy: 0.9790 - val_loss: 0.0882 - val_accuracy: 0.9787\n",
      "Epoch 78/100\n",
      "12/12 [==============================] - 0s 4ms/step - loss: 0.1082 - accuracy: 0.9790 - val_loss: 0.0876 - val_accuracy: 0.9787\n",
      "Epoch 79/100\n",
      "12/12 [==============================] - 0s 4ms/step - loss: 0.1075 - accuracy: 0.9790 - val_loss: 0.0870 - val_accuracy: 0.9787\n",
      "Epoch 80/100\n",
      "12/12 [==============================] - 0s 4ms/step - loss: 0.1069 - accuracy: 0.9790 - val_loss: 0.0864 - val_accuracy: 0.9787\n",
      "Epoch 81/100\n",
      "12/12 [==============================] - 0s 4ms/step - loss: 0.1063 - accuracy: 0.9790 - val_loss: 0.0858 - val_accuracy: 0.9787\n",
      "Epoch 82/100\n",
      "12/12 [==============================] - 0s 4ms/step - loss: 0.1057 - accuracy: 0.9790 - val_loss: 0.0851 - val_accuracy: 0.9787\n",
      "Epoch 83/100\n",
      "12/12 [==============================] - 0s 4ms/step - loss: 0.1051 - accuracy: 0.9790 - val_loss: 0.0846 - val_accuracy: 0.9787\n",
      "Epoch 84/100\n",
      "12/12 [==============================] - 0s 4ms/step - loss: 0.1045 - accuracy: 0.9790 - val_loss: 0.0840 - val_accuracy: 0.9787\n",
      "Epoch 85/100\n",
      "12/12 [==============================] - 0s 4ms/step - loss: 0.1040 - accuracy: 0.9790 - val_loss: 0.0835 - val_accuracy: 0.9787\n",
      "Epoch 86/100\n",
      "12/12 [==============================] - 0s 4ms/step - loss: 0.1034 - accuracy: 0.9790 - val_loss: 0.0829 - val_accuracy: 0.9787\n",
      "Epoch 87/100\n",
      "12/12 [==============================] - 0s 4ms/step - loss: 0.1029 - accuracy: 0.9790 - val_loss: 0.0824 - val_accuracy: 0.9787\n",
      "Epoch 88/100\n",
      "12/12 [==============================] - 0s 3ms/step - loss: 0.1023 - accuracy: 0.9790 - val_loss: 0.0819 - val_accuracy: 0.9787\n",
      "Epoch 89/100\n",
      "12/12 [==============================] - 0s 5ms/step - loss: 0.1018 - accuracy: 0.9790 - val_loss: 0.0814 - val_accuracy: 0.9787\n",
      "Epoch 90/100\n",
      "12/12 [==============================] - 0s 4ms/step - loss: 0.1013 - accuracy: 0.9790 - val_loss: 0.0809 - val_accuracy: 0.9787\n",
      "Epoch 91/100\n",
      "12/12 [==============================] - 0s 4ms/step - loss: 0.1008 - accuracy: 0.9790 - val_loss: 0.0804 - val_accuracy: 0.9787\n",
      "Epoch 92/100\n",
      "12/12 [==============================] - 0s 4ms/step - loss: 0.1003 - accuracy: 0.9790 - val_loss: 0.0799 - val_accuracy: 0.9787\n",
      "Epoch 93/100\n",
      "12/12 [==============================] - 0s 3ms/step - loss: 0.0999 - accuracy: 0.9790 - val_loss: 0.0795 - val_accuracy: 0.9787\n",
      "Epoch 94/100\n",
      "12/12 [==============================] - 0s 3ms/step - loss: 0.0994 - accuracy: 0.9790 - val_loss: 0.0791 - val_accuracy: 0.9787\n",
      "Epoch 95/100\n",
      "12/12 [==============================] - 0s 4ms/step - loss: 0.0989 - accuracy: 0.9790 - val_loss: 0.0786 - val_accuracy: 0.9787\n",
      "Epoch 96/100\n",
      "12/12 [==============================] - 0s 4ms/step - loss: 0.0985 - accuracy: 0.9790 - val_loss: 0.0782 - val_accuracy: 0.9787\n",
      "Epoch 97/100\n",
      "12/12 [==============================] - 0s 4ms/step - loss: 0.0980 - accuracy: 0.9790 - val_loss: 0.0777 - val_accuracy: 0.9787\n",
      "Epoch 98/100\n",
      "12/12 [==============================] - 0s 4ms/step - loss: 0.0976 - accuracy: 0.9790 - val_loss: 0.0773 - val_accuracy: 0.9787\n",
      "Epoch 99/100\n",
      "12/12 [==============================] - 0s 3ms/step - loss: 0.0971 - accuracy: 0.9790 - val_loss: 0.0769 - val_accuracy: 0.9787\n",
      "Epoch 100/100\n",
      "12/12 [==============================] - 0s 4ms/step - loss: 0.0967 - accuracy: 0.9790 - val_loss: 0.0765 - val_accuracy: 0.9787\n"
     ]
    }
   ],
   "source": [
    "r = model.fit(x_train,y_train,validation_data=(x_test,y_test),epochs=100)"
   ]
  },
  {
   "cell_type": "code",
   "execution_count": 14,
   "id": "80730d8c",
   "metadata": {},
   "outputs": [
    {
     "name": "stdout",
     "output_type": "stream",
     "text": [
      "12/12 [==============================] - 0s 1ms/step - loss: 0.0964 - accuracy: 0.9816\n",
      "Train score :  [0.09644116461277008, 0.9816272854804993]\n",
      "6/6 [==============================] - 0s 1ms/step - loss: 0.0765 - accuracy: 0.9787\n",
      "Test score :  [0.07646501064300537, 0.978723406791687]\n"
     ]
    }
   ],
   "source": [
    "print(\"Train score : \" , model.evaluate(x_train,y_train))\n",
    "print(\"Test score : \" , model.evaluate(x_test,y_test))"
   ]
  },
  {
   "cell_type": "code",
   "execution_count": 15,
   "id": "719f055a",
   "metadata": {},
   "outputs": [
    {
     "data": {
      "text/plain": [
       "<matplotlib.legend.Legend at 0x19121157fd0>"
      ]
     },
     "execution_count": 15,
     "metadata": {},
     "output_type": "execute_result"
    },
    {
     "data": {
      "image/png": "[encoded data removed]",
      "text/plain": [
       "<Figure size 640x480 with 1 Axes>"
      ]
     },
     "metadata": {},
     "output_type": "display_data"
    }
   ],
   "source": [
    "#plot what return by model.fit()\n",
    "import matplotlib.pyplot as plt\n",
    "plt.plot(r.history[\"loss\"] , label=\"Loss\")\n",
    "plt.plot(r.history[\"val_loss\"] , label=\"Val_Loss\")\n",
    "plt.legend()"
   ]
  },
  {
   "cell_type": "code",
   "execution_count": 16,
   "id": "9ec12c10",
   "metadata": {},
   "outputs": [
    {
     "data": {
      "text/plain": [
       "<matplotlib.legend.Legend at 0x1912dfd7220>"
      ]
     },
     "execution_count": 16,
     "metadata": {},
     "output_type": "execute_result"
    },
    {
     "data": {
      "image/png": "[encoded data removed]",
      "text/plain": [
       "<Figure size 640x480 with 1 Axes>"
      ]
     },
     "metadata": {},
     "output_type": "display_data"
    }
   ],
   "source": [
    "#plot the accuracy too\n",
    "plt.plot(r.history[\"accuracy\"] , label=\"accuracy\")\n",
    "plt.plot(r.history[\"val_accuracy\"] , label=\"val_accuracy\")\n",
    "plt.legend()"
   ]
  },
  {
   "cell_type": "code",
   "execution_count": null,
   "id": "cfb36bac",
   "metadata": {},
   "outputs": [],
   "source": []
  }
 ],
 "metadata": {
  "kernelspec": {
   "display_name": "Python 3 (ipykernel)",
   "language": "python",
   "name": "python3"
  },
  "language_info": {
   "codemirror_mode": {
    "name": "ipython",
    "version": 3
   },
   "file_extension": ".py",
   "mimetype": "text/x-python",
   "name": "python",
   "nbconvert_exporter": "python",
   "pygments_lexer": "ipython3",
   "version": "3.10.9"
  }
 },
 "nbformat": 4,
 "nbformat_minor": 5
}
