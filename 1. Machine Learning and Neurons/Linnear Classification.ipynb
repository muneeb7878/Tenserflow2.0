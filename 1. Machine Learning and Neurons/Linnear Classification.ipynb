{
 "cells": [
  {
   "cell_type": "code",
   "execution_count": 2,
   "id": "d861abbd",
   "metadata": {},
   "outputs": [],
   "source": [
    "from sklearn.datasets import load_breast_cancer"
   ]
  },
  {
   "cell_type": "code",
   "execution_count": 3,
   "id": "97959359",
   "metadata": {},
   "outputs": [
    {
     "data": {
      "text/plain": [
       "sklearn.utils._bunch.Bunch"
      ]
     },
     "execution_count": 3,
     "metadata": {},
     "output_type": "execute_result"
    }
   ],
   "source": [
    "data = load_breast_cancer()\n",
    "type(data)"
   ]
  },
  {
   "cell_type": "code",
   "execution_count": 4,
   "id": "98337809",
   "metadata": {},
   "outputs": [
    {
     "data": {
      "text/plain": [
       "dict_keys(['data', 'target', 'frame', 'target_names', 'DESCR', 'feature_names', 'filename', 'data_module'])"
      ]
     },
     "execution_count": 4,
     "metadata": {},
     "output_type": "execute_result"
    }
   ],
   "source": [
    "data.keys()"
   ]
  },
  {
   "cell_type": "code",
   "execution_count": 5,
   "id": "c23d27e5",
   "metadata": {},
   "outputs": [
    {
     "data": {
      "text/plain": [
       "(569, 30)"
      ]
     },
     "execution_count": 5,
     "metadata": {},
     "output_type": "execute_result"
    }
   ],
   "source": [
    "data.data.shape"
   ]
  },
  {
   "cell_type": "code",
   "execution_count": 6,
   "id": "7c5d544b",
   "metadata": {},
   "outputs": [
    {
     "data": {
      "text/plain": [
       "(569,)"
      ]
     },
     "execution_count": 6,
     "metadata": {},
     "output_type": "execute_result"
    }
   ],
   "source": [
    "data.target.shape"
   ]
  },
  {
   "cell_type": "code",
   "execution_count": 7,
   "id": "73bbd2ae",
   "metadata": {},
   "outputs": [
    {
     "data": {
      "text/plain": [
       "array(['malignant', 'benign'], dtype='<U9')"
      ]
     },
     "execution_count": 7,
     "metadata": {},
     "output_type": "execute_result"
    }
   ],
   "source": [
    "data.target_names"
   ]
  },
  {
   "cell_type": "code",
   "execution_count": 8,
   "id": "69153764",
   "metadata": {},
   "outputs": [
    {
     "data": {
      "text/plain": [
       "array(['mean radius', 'mean texture', 'mean perimeter', 'mean area',\n",
       "       'mean smoothness', 'mean compactness', 'mean concavity',\n",
       "       'mean concave points', 'mean symmetry', 'mean fractal dimension',\n",
       "       'radius error', 'texture error', 'perimeter error', 'area error',\n",
       "       'smoothness error', 'compactness error', 'concavity error',\n",
       "       'concave points error', 'symmetry error',\n",
       "       'fractal dimension error', 'worst radius', 'worst texture',\n",
       "       'worst perimeter', 'worst area', 'worst smoothness',\n",
       "       'worst compactness', 'worst concavity', 'worst concave points',\n",
       "       'worst symmetry', 'worst fractal dimension'], dtype='<U23')"
      ]
     },
     "execution_count": 8,
     "metadata": {},
     "output_type": "execute_result"
    }
   ],
   "source": [
    "data.feature_names"
   ]
  },
  {
   "cell_type": "code",
   "execution_count": 10,
   "id": "b3953fc2",
   "metadata": {},
   "outputs": [],
   "source": [
    "# Lets split the data\n",
    "from sklearn.model_selection import train_test_split\n",
    "\n",
    "x_train , x_test , y_train , y_test = train_test_split(data.data , data.target , test_size=0.33 , random_state=42)"
   ]
  },
  {
   "cell_type": "code",
   "execution_count": 13,
   "id": "7a1ca0e2",
   "metadata": {},
   "outputs": [
    {
     "data": {
      "text/plain": [
       "((381, 30), (188, 30), (188,), (381,))"
      ]
     },
     "execution_count": 13,
     "metadata": {},
     "output_type": "execute_result"
    }
   ],
   "source": [
    "x_train.shape , x_test.shape , y_test.shape ,y_train.shape"
   ]
  },
  {
   "cell_type": "code",
   "execution_count": 11,
   "id": "759de9db",
   "metadata": {},
   "outputs": [],
   "source": [
    "#Lets do some scaling\n",
    "from sklearn.preprocessing import StandardScaler\n",
    "scaler = StandardScaler()\n",
    "x_train = scaler.fit_transform(x_train)\n",
    "x_test = scaler.fit_transform(x_test)"
   ]
  },
  {
   "cell_type": "code",
   "execution_count": 12,
   "id": "2c8a98ab",
   "metadata": {},
   "outputs": [],
   "source": [
    "# Build model\n",
    "import tensorflow as tf\n",
    "model = tf.keras.Sequential()\n",
    "model.add(tf.keras.layers.Dense(1, input_shape=(30,)  ,activation=\"sigmoid\"))"
   ]
  },
  {
   "cell_type": "code",
   "execution_count": 13,
   "id": "32b76e74",
   "metadata": {},
   "outputs": [],
   "source": [
    "model.compile(optimizer=\"adam\",\n",
    "             loss=\"binary_crossentropy\",\n",
    "             metrics=[\"accuracy\"])"
   ]
  },
  {
   "cell_type": "code",
   "execution_count": 16,
   "id": "f7d1bc8e",
   "metadata": {},
   "outputs": [
    {
     "name": "stdout",
     "output_type": "stream",
     "text": [
      "Epoch 1/100\n",
      "12/12 [==============================] - 0s 6ms/step - loss: 0.1040 - accuracy: 0.9764 - val_loss: 0.0883 - val_accuracy: 0.9787\n",
      "Epoch 2/100\n",
      "12/12 [==============================] - 0s 4ms/step - loss: 0.1036 - accuracy: 0.9764 - val_loss: 0.0878 - val_accuracy: 0.9840\n",
      "Epoch 3/100\n",
      "12/12 [==============================] - 0s 4ms/step - loss: 0.1032 - accuracy: 0.9764 - val_loss: 0.0873 - val_accuracy: 0.9840\n",
      "Epoch 4/100\n",
      "12/12 [==============================] - 0s 4ms/step - loss: 0.1027 - accuracy: 0.9764 - val_loss: 0.0868 - val_accuracy: 0.9840\n",
      "Epoch 5/100\n",
      "12/12 [==============================] - 0s 4ms/step - loss: 0.1022 - accuracy: 0.9764 - val_loss: 0.0863 - val_accuracy: 0.9840\n",
      "Epoch 6/100\n",
      "12/12 [==============================] - 0s 4ms/step - loss: 0.1018 - accuracy: 0.9764 - val_loss: 0.0859 - val_accuracy: 0.9840\n",
      "Epoch 7/100\n",
      "12/12 [==============================] - 0s 4ms/step - loss: 0.1014 - accuracy: 0.9764 - val_loss: 0.0854 - val_accuracy: 0.9840\n",
      "Epoch 8/100\n",
      "12/12 [==============================] - 0s 4ms/step - loss: 0.1010 - accuracy: 0.9764 - val_loss: 0.0849 - val_accuracy: 0.9840\n",
      "Epoch 9/100\n",
      "12/12 [==============================] - 0s 4ms/step - loss: 0.1006 - accuracy: 0.9764 - val_loss: 0.0845 - val_accuracy: 0.9840\n",
      "Epoch 10/100\n",
      "12/12 [==============================] - 0s 4ms/step - loss: 0.1002 - accuracy: 0.9764 - val_loss: 0.0841 - val_accuracy: 0.9840\n",
      "Epoch 11/100\n",
      "12/12 [==============================] - 0s 4ms/step - loss: 0.0998 - accuracy: 0.9764 - val_loss: 0.0836 - val_accuracy: 0.9840\n",
      "Epoch 12/100\n",
      "12/12 [==============================] - 0s 4ms/step - loss: 0.0994 - accuracy: 0.9764 - val_loss: 0.0832 - val_accuracy: 0.9840\n",
      "Epoch 13/100\n",
      "12/12 [==============================] - 0s 4ms/step - loss: 0.0990 - accuracy: 0.9764 - val_loss: 0.0828 - val_accuracy: 0.9840\n",
      "Epoch 14/100\n",
      "12/12 [==============================] - 0s 4ms/step - loss: 0.0987 - accuracy: 0.9764 - val_loss: 0.0824 - val_accuracy: 0.9840\n",
      "Epoch 15/100\n",
      "12/12 [==============================] - 0s 4ms/step - loss: 0.0983 - accuracy: 0.9764 - val_loss: 0.0820 - val_accuracy: 0.9840\n",
      "Epoch 16/100\n",
      "12/12 [==============================] - 0s 4ms/step - loss: 0.0979 - accuracy: 0.9764 - val_loss: 0.0816 - val_accuracy: 0.9840\n",
      "Epoch 17/100\n",
      "12/12 [==============================] - 0s 4ms/step - loss: 0.0975 - accuracy: 0.9764 - val_loss: 0.0812 - val_accuracy: 0.9840\n",
      "Epoch 18/100\n",
      "12/12 [==============================] - 0s 4ms/step - loss: 0.0972 - accuracy: 0.9764 - val_loss: 0.0808 - val_accuracy: 0.9840\n",
      "Epoch 19/100\n",
      "12/12 [==============================] - 0s 4ms/step - loss: 0.0968 - accuracy: 0.9764 - val_loss: 0.0804 - val_accuracy: 0.9840\n",
      "Epoch 20/100\n",
      "12/12 [==============================] - 0s 5ms/step - loss: 0.0965 - accuracy: 0.9764 - val_loss: 0.0801 - val_accuracy: 0.9840\n",
      "Epoch 21/100\n",
      "12/12 [==============================] - 0s 4ms/step - loss: 0.0961 - accuracy: 0.9764 - val_loss: 0.0797 - val_accuracy: 0.9840\n",
      "Epoch 22/100\n",
      "12/12 [==============================] - 0s 4ms/step - loss: 0.0958 - accuracy: 0.9764 - val_loss: 0.0793 - val_accuracy: 0.9840\n",
      "Epoch 23/100\n",
      "12/12 [==============================] - 0s 4ms/step - loss: 0.0955 - accuracy: 0.9764 - val_loss: 0.0789 - val_accuracy: 0.9840\n",
      "Epoch 24/100\n",
      "12/12 [==============================] - 0s 4ms/step - loss: 0.0951 - accuracy: 0.9764 - val_loss: 0.0786 - val_accuracy: 0.9840\n",
      "Epoch 25/100\n",
      "12/12 [==============================] - 0s 4ms/step - loss: 0.0948 - accuracy: 0.9764 - val_loss: 0.0782 - val_accuracy: 0.9840\n",
      "Epoch 26/100\n",
      "12/12 [==============================] - 0s 4ms/step - loss: 0.0945 - accuracy: 0.9764 - val_loss: 0.0779 - val_accuracy: 0.9840\n",
      "Epoch 27/100\n",
      "12/12 [==============================] - 0s 4ms/step - loss: 0.0942 - accuracy: 0.9764 - val_loss: 0.0776 - val_accuracy: 0.9840\n",
      "Epoch 28/100\n",
      "12/12 [==============================] - 0s 4ms/step - loss: 0.0939 - accuracy: 0.9764 - val_loss: 0.0773 - val_accuracy: 0.9840\n",
      "Epoch 29/100\n",
      "12/12 [==============================] - 0s 5ms/step - loss: 0.0936 - accuracy: 0.9764 - val_loss: 0.0769 - val_accuracy: 0.9840\n",
      "Epoch 30/100\n",
      "12/12 [==============================] - 0s 4ms/step - loss: 0.0933 - accuracy: 0.9764 - val_loss: 0.0766 - val_accuracy: 0.9840\n",
      "Epoch 31/100\n",
      "12/12 [==============================] - 0s 4ms/step - loss: 0.0930 - accuracy: 0.9764 - val_loss: 0.0763 - val_accuracy: 0.9840\n",
      "Epoch 32/100\n",
      "12/12 [==============================] - 0s 4ms/step - loss: 0.0927 - accuracy: 0.9764 - val_loss: 0.0760 - val_accuracy: 0.9840\n",
      "Epoch 33/100\n",
      "12/12 [==============================] - 0s 4ms/step - loss: 0.0924 - accuracy: 0.9764 - val_loss: 0.0757 - val_accuracy: 0.9840\n",
      "Epoch 34/100\n",
      "12/12 [==============================] - 0s 4ms/step - loss: 0.0921 - accuracy: 0.9764 - val_loss: 0.0753 - val_accuracy: 0.9840\n",
      "Epoch 35/100\n",
      "12/12 [==============================] - 0s 4ms/step - loss: 0.0918 - accuracy: 0.9764 - val_loss: 0.0751 - val_accuracy: 0.9840\n",
      "Epoch 36/100\n",
      "12/12 [==============================] - 0s 4ms/step - loss: 0.0915 - accuracy: 0.9764 - val_loss: 0.0748 - val_accuracy: 0.9840\n",
      "Epoch 37/100\n",
      "12/12 [==============================] - 0s 5ms/step - loss: 0.0912 - accuracy: 0.9764 - val_loss: 0.0745 - val_accuracy: 0.9840\n",
      "Epoch 38/100\n",
      "12/12 [==============================] - 0s 4ms/step - loss: 0.0910 - accuracy: 0.9764 - val_loss: 0.0742 - val_accuracy: 0.9840\n",
      "Epoch 39/100\n",
      "12/12 [==============================] - 0s 4ms/step - loss: 0.0907 - accuracy: 0.9764 - val_loss: 0.0739 - val_accuracy: 0.9840\n",
      "Epoch 40/100\n",
      "12/12 [==============================] - 0s 4ms/step - loss: 0.0904 - accuracy: 0.9764 - val_loss: 0.0737 - val_accuracy: 0.9840\n",
      "Epoch 41/100\n",
      "12/12 [==============================] - 0s 4ms/step - loss: 0.0902 - accuracy: 0.9764 - val_loss: 0.0734 - val_accuracy: 0.9840\n",
      "Epoch 42/100\n",
      "12/12 [==============================] - 0s 4ms/step - loss: 0.0899 - accuracy: 0.9764 - val_loss: 0.0731 - val_accuracy: 0.9840\n",
      "Epoch 43/100\n",
      "12/12 [==============================] - 0s 4ms/step - loss: 0.0897 - accuracy: 0.9764 - val_loss: 0.0728 - val_accuracy: 0.9840\n",
      "Epoch 44/100\n",
      "12/12 [==============================] - 0s 4ms/step - loss: 0.0894 - accuracy: 0.9764 - val_loss: 0.0726 - val_accuracy: 0.9840\n",
      "Epoch 45/100\n",
      "12/12 [==============================] - 0s 4ms/step - loss: 0.0891 - accuracy: 0.9764 - val_loss: 0.0723 - val_accuracy: 0.9894\n",
      "Epoch 46/100\n",
      "12/12 [==============================] - 0s 4ms/step - loss: 0.0889 - accuracy: 0.9764 - val_loss: 0.0720 - val_accuracy: 0.9840\n",
      "Epoch 47/100\n",
      "12/12 [==============================] - 0s 4ms/step - loss: 0.0886 - accuracy: 0.9764 - val_loss: 0.0718 - val_accuracy: 0.9840\n",
      "Epoch 48/100\n",
      "12/12 [==============================] - 0s 4ms/step - loss: 0.0884 - accuracy: 0.9764 - val_loss: 0.0715 - val_accuracy: 0.9894\n",
      "Epoch 49/100\n",
      "12/12 [==============================] - 0s 3ms/step - loss: 0.0881 - accuracy: 0.9764 - val_loss: 0.0713 - val_accuracy: 0.9894\n",
      "Epoch 50/100\n",
      "12/12 [==============================] - 0s 4ms/step - loss: 0.0879 - accuracy: 0.9764 - val_loss: 0.0711 - val_accuracy: 0.9894\n",
      "Epoch 51/100\n",
      "12/12 [==============================] - 0s 3ms/step - loss: 0.0876 - accuracy: 0.9764 - val_loss: 0.0708 - val_accuracy: 0.9894\n",
      "Epoch 52/100\n",
      "12/12 [==============================] - 0s 4ms/step - loss: 0.0874 - accuracy: 0.9764 - val_loss: 0.0706 - val_accuracy: 0.9894\n",
      "Epoch 53/100\n",
      "12/12 [==============================] - 0s 4ms/step - loss: 0.0872 - accuracy: 0.9764 - val_loss: 0.0703 - val_accuracy: 0.9894\n",
      "Epoch 54/100\n",
      "12/12 [==============================] - 0s 3ms/step - loss: 0.0870 - accuracy: 0.9764 - val_loss: 0.0701 - val_accuracy: 0.9894\n",
      "Epoch 55/100\n",
      "12/12 [==============================] - 0s 4ms/step - loss: 0.0867 - accuracy: 0.9764 - val_loss: 0.0699 - val_accuracy: 0.9894\n",
      "Epoch 56/100\n",
      "12/12 [==============================] - 0s 4ms/step - loss: 0.0865 - accuracy: 0.9764 - val_loss: 0.0697 - val_accuracy: 0.9894\n",
      "Epoch 57/100\n",
      "12/12 [==============================] - 0s 4ms/step - loss: 0.0863 - accuracy: 0.9764 - val_loss: 0.0694 - val_accuracy: 0.9894\n",
      "Epoch 58/100\n",
      "12/12 [==============================] - 0s 3ms/step - loss: 0.0860 - accuracy: 0.9764 - val_loss: 0.0692 - val_accuracy: 0.9894\n"
     ]
    },
    {
     "name": "stdout",
     "output_type": "stream",
     "text": [
      "Epoch 59/100\n",
      "12/12 [==============================] - 0s 4ms/step - loss: 0.0858 - accuracy: 0.9764 - val_loss: 0.0690 - val_accuracy: 0.9894\n",
      "Epoch 60/100\n",
      "12/12 [==============================] - 0s 4ms/step - loss: 0.0856 - accuracy: 0.9764 - val_loss: 0.0688 - val_accuracy: 0.9894\n",
      "Epoch 61/100\n",
      "12/12 [==============================] - 0s 4ms/step - loss: 0.0854 - accuracy: 0.9764 - val_loss: 0.0686 - val_accuracy: 0.9894\n",
      "Epoch 62/100\n",
      "12/12 [==============================] - 0s 4ms/step - loss: 0.0852 - accuracy: 0.9764 - val_loss: 0.0683 - val_accuracy: 0.9894\n",
      "Epoch 63/100\n",
      "12/12 [==============================] - 0s 4ms/step - loss: 0.0850 - accuracy: 0.9764 - val_loss: 0.0681 - val_accuracy: 0.9894\n",
      "Epoch 64/100\n",
      "12/12 [==============================] - 0s 4ms/step - loss: 0.0847 - accuracy: 0.9764 - val_loss: 0.0680 - val_accuracy: 0.9894\n",
      "Epoch 65/100\n",
      "12/12 [==============================] - 0s 4ms/step - loss: 0.0845 - accuracy: 0.9764 - val_loss: 0.0678 - val_accuracy: 0.9894\n",
      "Epoch 66/100\n",
      "12/12 [==============================] - 0s 3ms/step - loss: 0.0843 - accuracy: 0.9764 - val_loss: 0.0676 - val_accuracy: 0.9894\n",
      "Epoch 67/100\n",
      "12/12 [==============================] - 0s 4ms/step - loss: 0.0841 - accuracy: 0.9764 - val_loss: 0.0674 - val_accuracy: 0.9894\n",
      "Epoch 68/100\n",
      "12/12 [==============================] - 0s 4ms/step - loss: 0.0839 - accuracy: 0.9764 - val_loss: 0.0672 - val_accuracy: 0.9894\n",
      "Epoch 69/100\n",
      "12/12 [==============================] - 0s 4ms/step - loss: 0.0837 - accuracy: 0.9764 - val_loss: 0.0670 - val_accuracy: 0.9894\n",
      "Epoch 70/100\n",
      "12/12 [==============================] - 0s 4ms/step - loss: 0.0835 - accuracy: 0.9764 - val_loss: 0.0668 - val_accuracy: 0.9894\n",
      "Epoch 71/100\n",
      "12/12 [==============================] - 0s 3ms/step - loss: 0.0833 - accuracy: 0.9764 - val_loss: 0.0666 - val_accuracy: 0.9894\n",
      "Epoch 72/100\n",
      "12/12 [==============================] - 0s 4ms/step - loss: 0.0831 - accuracy: 0.9764 - val_loss: 0.0664 - val_accuracy: 0.9894\n",
      "Epoch 73/100\n",
      "12/12 [==============================] - 0s 4ms/step - loss: 0.0829 - accuracy: 0.9764 - val_loss: 0.0662 - val_accuracy: 0.9894\n",
      "Epoch 74/100\n",
      "12/12 [==============================] - 0s 4ms/step - loss: 0.0827 - accuracy: 0.9764 - val_loss: 0.0660 - val_accuracy: 0.9894\n",
      "Epoch 75/100\n",
      "12/12 [==============================] - 0s 4ms/step - loss: 0.0826 - accuracy: 0.9764 - val_loss: 0.0658 - val_accuracy: 0.9894\n",
      "Epoch 76/100\n",
      "12/12 [==============================] - 0s 4ms/step - loss: 0.0824 - accuracy: 0.9764 - val_loss: 0.0657 - val_accuracy: 0.9894\n",
      "Epoch 77/100\n",
      "12/12 [==============================] - 0s 4ms/step - loss: 0.0822 - accuracy: 0.9764 - val_loss: 0.0655 - val_accuracy: 0.9894\n",
      "Epoch 78/100\n",
      "12/12 [==============================] - 0s 3ms/step - loss: 0.0820 - accuracy: 0.9764 - val_loss: 0.0653 - val_accuracy: 0.9894\n",
      "Epoch 79/100\n",
      "12/12 [==============================] - 0s 4ms/step - loss: 0.0818 - accuracy: 0.9764 - val_loss: 0.0652 - val_accuracy: 0.9894\n",
      "Epoch 80/100\n",
      "12/12 [==============================] - 0s 4ms/step - loss: 0.0816 - accuracy: 0.9764 - val_loss: 0.0650 - val_accuracy: 0.9894\n",
      "Epoch 81/100\n",
      "12/12 [==============================] - 0s 4ms/step - loss: 0.0814 - accuracy: 0.9764 - val_loss: 0.0648 - val_accuracy: 0.9894\n",
      "Epoch 82/100\n",
      "12/12 [==============================] - 0s 4ms/step - loss: 0.0813 - accuracy: 0.9764 - val_loss: 0.0647 - val_accuracy: 0.9894\n",
      "Epoch 83/100\n",
      "12/12 [==============================] - 0s 4ms/step - loss: 0.0811 - accuracy: 0.9764 - val_loss: 0.0645 - val_accuracy: 0.9894\n",
      "Epoch 84/100\n",
      "12/12 [==============================] - 0s 4ms/step - loss: 0.0809 - accuracy: 0.9764 - val_loss: 0.0644 - val_accuracy: 0.9894\n",
      "Epoch 85/100\n",
      "12/12 [==============================] - 0s 4ms/step - loss: 0.0807 - accuracy: 0.9764 - val_loss: 0.0642 - val_accuracy: 0.9894\n",
      "Epoch 86/100\n",
      "12/12 [==============================] - 0s 4ms/step - loss: 0.0806 - accuracy: 0.9764 - val_loss: 0.0640 - val_accuracy: 0.9894\n",
      "Epoch 87/100\n",
      "12/12 [==============================] - 0s 3ms/step - loss: 0.0804 - accuracy: 0.9764 - val_loss: 0.0639 - val_accuracy: 0.9894\n",
      "Epoch 88/100\n",
      "12/12 [==============================] - 0s 4ms/step - loss: 0.0802 - accuracy: 0.9764 - val_loss: 0.0637 - val_accuracy: 0.9894\n",
      "Epoch 89/100\n",
      "12/12 [==============================] - 0s 4ms/step - loss: 0.0801 - accuracy: 0.9764 - val_loss: 0.0635 - val_accuracy: 0.9894\n",
      "Epoch 90/100\n",
      "12/12 [==============================] - 0s 4ms/step - loss: 0.0799 - accuracy: 0.9764 - val_loss: 0.0634 - val_accuracy: 0.9894\n",
      "Epoch 91/100\n",
      "12/12 [==============================] - 0s 4ms/step - loss: 0.0798 - accuracy: 0.9764 - val_loss: 0.0633 - val_accuracy: 0.9894\n",
      "Epoch 92/100\n",
      "12/12 [==============================] - 0s 4ms/step - loss: 0.0796 - accuracy: 0.9764 - val_loss: 0.0631 - val_accuracy: 0.9894\n",
      "Epoch 93/100\n",
      "12/12 [==============================] - 0s 4ms/step - loss: 0.0794 - accuracy: 0.9764 - val_loss: 0.0629 - val_accuracy: 0.9894\n",
      "Epoch 94/100\n",
      "12/12 [==============================] - 0s 3ms/step - loss: 0.0792 - accuracy: 0.9764 - val_loss: 0.0628 - val_accuracy: 0.9894\n",
      "Epoch 95/100\n",
      "12/12 [==============================] - 0s 4ms/step - loss: 0.0791 - accuracy: 0.9764 - val_loss: 0.0627 - val_accuracy: 0.9894\n",
      "Epoch 96/100\n",
      "12/12 [==============================] - 0s 4ms/step - loss: 0.0789 - accuracy: 0.9764 - val_loss: 0.0625 - val_accuracy: 0.9894\n",
      "Epoch 97/100\n",
      "12/12 [==============================] - 0s 4ms/step - loss: 0.0788 - accuracy: 0.9764 - val_loss: 0.0624 - val_accuracy: 0.9894\n",
      "Epoch 98/100\n",
      "12/12 [==============================] - 0s 4ms/step - loss: 0.0786 - accuracy: 0.9764 - val_loss: 0.0622 - val_accuracy: 0.9894\n",
      "Epoch 99/100\n",
      "12/12 [==============================] - 0s 4ms/step - loss: 0.0785 - accuracy: 0.9764 - val_loss: 0.0621 - val_accuracy: 0.9894\n",
      "Epoch 100/100\n",
      "12/12 [==============================] - 0s 4ms/step - loss: 0.0783 - accuracy: 0.9764 - val_loss: 0.0619 - val_accuracy: 0.9894\n"
     ]
    }
   ],
   "source": [
    "r = model.fit(x_train,y_train,validation_data=(x_test,y_test),epochs=100)"
   ]
  },
  {
   "cell_type": "code",
   "execution_count": 17,
   "id": "6414b10f",
   "metadata": {},
   "outputs": [
    {
     "name": "stdout",
     "output_type": "stream",
     "text": [
      "12/12 [==============================] - 0s 1ms/step - loss: 0.0782 - accuracy: 0.9790\n",
      "Train score :  [0.07816910743713379, 0.9790025949478149]\n",
      "6/6 [==============================] - 0s 1ms/step - loss: 0.0619 - accuracy: 0.9894\n",
      "Test score :  [0.06193976104259491, 0.9893617033958435]\n"
     ]
    }
   ],
   "source": [
    "print(\"Train score : \" , model.evaluate(x_train,y_train))\n",
    "print(\"Test score : \" , model.evaluate(x_test,y_test))"
   ]
  },
  {
   "cell_type": "code",
   "execution_count": 22,
   "id": "0c6afc8e",
   "metadata": {},
   "outputs": [
    {
     "data": {
      "text/plain": [
       "<matplotlib.legend.Legend at 0x2340e925b70>"
      ]
     },
     "execution_count": 22,
     "metadata": {},
     "output_type": "execute_result"
    },
    {
     "data": {
      "image/png": "[encoded data removed]",
      "text/plain": [
       "<Figure size 640x480 with 1 Axes>"
      ]
     },
     "metadata": {},
     "output_type": "display_data"
    }
   ],
   "source": [
    "#plot what return by model.fit()\n",
    "import matplotlib.pyplot as plt\n",
    "plt.plot(r.history[\"loss\"] , label=\"Loss\")\n",
    "plt.plot(r.history[\"val_loss\"] , label=\"Val_Loss\")\n",
    "plt.legend()"
   ]
  },
  {
   "cell_type": "code",
   "execution_count": 23,
   "id": "861a5d50",
   "metadata": {},
   "outputs": [
    {
     "ename": "KeyError",
     "evalue": "'accuray'",
     "output_type": "error",
     "traceback": [
      "\u001b[1;31m---------------------------------------------------------------------------\u001b[0m",
      "\u001b[1;31mKeyError\u001b[0m                                  Traceback (most recent call last)",
      "Cell \u001b[1;32mIn[23], line 2\u001b[0m\n\u001b[0;32m      1\u001b[0m \u001b[38;5;66;03m#plot the accuracy too\u001b[39;00m\n\u001b[1;32m----> 2\u001b[0m plt\u001b[38;5;241m.\u001b[39mplot(\u001b[43mr\u001b[49m\u001b[38;5;241;43m.\u001b[39;49m\u001b[43mhistory\u001b[49m\u001b[43m[\u001b[49m\u001b[38;5;124;43m\"\u001b[39;49m\u001b[38;5;124;43maccuray\u001b[39;49m\u001b[38;5;124;43m\"\u001b[39;49m\u001b[43m]\u001b[49m , label\u001b[38;5;241m=\u001b[39m\u001b[38;5;124m\"\u001b[39m\u001b[38;5;124maccuray\u001b[39m\u001b[38;5;124m\"\u001b[39m)\n\u001b[0;32m      3\u001b[0m plt\u001b[38;5;241m.\u001b[39mplot(r\u001b[38;5;241m.\u001b[39mhistory[\u001b[38;5;124m\"\u001b[39m\u001b[38;5;124mval_accuracy\u001b[39m\u001b[38;5;124m\"\u001b[39m] , label\u001b[38;5;241m=\u001b[39m\u001b[38;5;124m\"\u001b[39m\u001b[38;5;124mval_accuracy\u001b[39m\u001b[38;5;124m\"\u001b[39m)\n\u001b[0;32m      4\u001b[0m plt\u001b[38;5;241m.\u001b[39mlegend()\n",
      "\u001b[1;31mKeyError\u001b[0m: 'accuray'"
     ]
    }
   ],
   "source": [
    "#plot the accuracy too\n",
    "plt.plot(r.history[\"accuray\"] , label=\"accuray\")\n",
    "plt.plot(r.history[\"val_accuracy\"] , label=\"val_accuracy\")\n",
    "plt.legend()"
   ]
  },
  {
   "cell_type": "code",
   "execution_count": null,
   "id": "56e51932",
   "metadata": {},
   "outputs": [],
   "source": []
  }
 ],
 "metadata": {
  "kernelspec": {
   "display_name": "Python 3 (ipykernel)",
   "language": "python",
   "name": "python3"
  },
  "language_info": {
   "codemirror_mode": {
    "name": "ipython",
    "version": 3
   },
   "file_extension": ".py",
   "mimetype": "text/x-python",
   "name": "python",
   "nbconvert_exporter": "python",
   "pygments_lexer": "ipython3",
   "version": "3.10.9"
  }
 },
 "nbformat": 4,
 "nbformat_minor": 5
}
